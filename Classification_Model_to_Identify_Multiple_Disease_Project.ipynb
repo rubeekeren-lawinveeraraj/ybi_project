{
  "nbformat": 4,
  "nbformat_minor": 0,
  "metadata": {
    "colab": {
      "provenance": []
    },
    "kernelspec": {
      "name": "python3",
      "display_name": "Python 3"
    },
    "language_info": {
      "name": "python"
    }
  },
  "cells": [
    {
      "cell_type": "markdown",
      "source": [
        "# **⭐ Classification Model to Identify Multiple Disease**"
      ],
      "metadata": {
        "id": "I18Jq4byuxJz"
      }
    },
    {
      "cell_type": "code",
      "execution_count": 1,
      "metadata": {
        "id": "KMnSezUyqBGC"
      },
      "outputs": [],
      "source": [
        "# import library\n",
        "import pandas as pd\n",
        "import numpy as np\n",
        "import statistics as stat\n",
        "import matplotlib.pyplot as plt\n",
        "import seaborn as sns"
      ]
    },
    {
      "cell_type": "code",
      "source": [
        "# import data\n",
        "disease = pd.read_csv('https://github.com/ybifoundation/Dataset/raw/main/MultipleDiseasePrediction.csv')"
      ],
      "metadata": {
        "id": "sSNrMT5cu0QO"
      },
      "execution_count": null,
      "outputs": []
    },
    {
      "cell_type": "code",
      "source": [
        "# view data\n",
        "disease.head()"
      ],
      "metadata": {
        "colab": {
          "base_uri": "https://localhost:8080/",
          "height": 386
        },
        "id": "47yQb5c2vnSy",
        "outputId": "7174ba24-c24d-49d3-a5f5-84f7ec9a61bb"
      },
      "execution_count": null,
      "outputs": [
        {
          "output_type": "execute_result",
          "data": {
            "text/plain": [
              "   itching  skin_rash  nodal_skin_eruptions  continuous_sneezing  shivering  \\\n",
              "0        1          1                     1                    0          0   \n",
              "1        0          1                     1                    0          0   \n",
              "2        1          0                     1                    0          0   \n",
              "3        1          1                     0                    0          0   \n",
              "4        1          1                     1                    0          0   \n",
              "\n",
              "   chills  joint_pain  stomach_pain  acidity  ulcers_on_tongue  ...  \\\n",
              "0       0           0             0        0                 0  ...   \n",
              "1       0           0             0        0                 0  ...   \n",
              "2       0           0             0        0                 0  ...   \n",
              "3       0           0             0        0                 0  ...   \n",
              "4       0           0             0        0                 0  ...   \n",
              "\n",
              "   blackheads  scurring  skin_peeling  silver_like_dusting  \\\n",
              "0           0         0             0                    0   \n",
              "1           0         0             0                    0   \n",
              "2           0         0             0                    0   \n",
              "3           0         0             0                    0   \n",
              "4           0         0             0                    0   \n",
              "\n",
              "   small_dents_in_nails  inflammatory_nails  blister  red_sore_around_nose  \\\n",
              "0                     0                   0        0                     0   \n",
              "1                     0                   0        0                     0   \n",
              "2                     0                   0        0                     0   \n",
              "3                     0                   0        0                     0   \n",
              "4                     0                   0        0                     0   \n",
              "\n",
              "   yellow_crust_ooze         prognosis  \n",
              "0                  0  Fungal infection  \n",
              "1                  0  Fungal infection  \n",
              "2                  0  Fungal infection  \n",
              "3                  0  Fungal infection  \n",
              "4                  0  Fungal infection  \n",
              "\n",
              "[5 rows x 133 columns]"
            ],
            "text/html": [
              "\n",
              "  <div id=\"df-e94196ae-834f-4a5f-9b8a-aaa7e50d1312\">\n",
              "    <div class=\"colab-df-container\">\n",
              "      <div>\n",
              "<style scoped>\n",
              "    .dataframe tbody tr th:only-of-type {\n",
              "        vertical-align: middle;\n",
              "    }\n",
              "\n",
              "    .dataframe tbody tr th {\n",
              "        vertical-align: top;\n",
              "    }\n",
              "\n",
              "    .dataframe thead th {\n",
              "        text-align: right;\n",
              "    }\n",
              "</style>\n",
              "<table border=\"1\" class=\"dataframe\">\n",
              "  <thead>\n",
              "    <tr style=\"text-align: right;\">\n",
              "      <th></th>\n",
              "      <th>itching</th>\n",
              "      <th>skin_rash</th>\n",
              "      <th>nodal_skin_eruptions</th>\n",
              "      <th>continuous_sneezing</th>\n",
              "      <th>shivering</th>\n",
              "      <th>chills</th>\n",
              "      <th>joint_pain</th>\n",
              "      <th>stomach_pain</th>\n",
              "      <th>acidity</th>\n",
              "      <th>ulcers_on_tongue</th>\n",
              "      <th>...</th>\n",
              "      <th>blackheads</th>\n",
              "      <th>scurring</th>\n",
              "      <th>skin_peeling</th>\n",
              "      <th>silver_like_dusting</th>\n",
              "      <th>small_dents_in_nails</th>\n",
              "      <th>inflammatory_nails</th>\n",
              "      <th>blister</th>\n",
              "      <th>red_sore_around_nose</th>\n",
              "      <th>yellow_crust_ooze</th>\n",
              "      <th>prognosis</th>\n",
              "    </tr>\n",
              "  </thead>\n",
              "  <tbody>\n",
              "    <tr>\n",
              "      <th>0</th>\n",
              "      <td>1</td>\n",
              "      <td>1</td>\n",
              "      <td>1</td>\n",
              "      <td>0</td>\n",
              "      <td>0</td>\n",
              "      <td>0</td>\n",
              "      <td>0</td>\n",
              "      <td>0</td>\n",
              "      <td>0</td>\n",
              "      <td>0</td>\n",
              "      <td>...</td>\n",
              "      <td>0</td>\n",
              "      <td>0</td>\n",
              "      <td>0</td>\n",
              "      <td>0</td>\n",
              "      <td>0</td>\n",
              "      <td>0</td>\n",
              "      <td>0</td>\n",
              "      <td>0</td>\n",
              "      <td>0</td>\n",
              "      <td>Fungal infection</td>\n",
              "    </tr>\n",
              "    <tr>\n",
              "      <th>1</th>\n",
              "      <td>0</td>\n",
              "      <td>1</td>\n",
              "      <td>1</td>\n",
              "      <td>0</td>\n",
              "      <td>0</td>\n",
              "      <td>0</td>\n",
              "      <td>0</td>\n",
              "      <td>0</td>\n",
              "      <td>0</td>\n",
              "      <td>0</td>\n",
              "      <td>...</td>\n",
              "      <td>0</td>\n",
              "      <td>0</td>\n",
              "      <td>0</td>\n",
              "      <td>0</td>\n",
              "      <td>0</td>\n",
              "      <td>0</td>\n",
              "      <td>0</td>\n",
              "      <td>0</td>\n",
              "      <td>0</td>\n",
              "      <td>Fungal infection</td>\n",
              "    </tr>\n",
              "    <tr>\n",
              "      <th>2</th>\n",
              "      <td>1</td>\n",
              "      <td>0</td>\n",
              "      <td>1</td>\n",
              "      <td>0</td>\n",
              "      <td>0</td>\n",
              "      <td>0</td>\n",
              "      <td>0</td>\n",
              "      <td>0</td>\n",
              "      <td>0</td>\n",
              "      <td>0</td>\n",
              "      <td>...</td>\n",
              "      <td>0</td>\n",
              "      <td>0</td>\n",
              "      <td>0</td>\n",
              "      <td>0</td>\n",
              "      <td>0</td>\n",
              "      <td>0</td>\n",
              "      <td>0</td>\n",
              "      <td>0</td>\n",
              "      <td>0</td>\n",
              "      <td>Fungal infection</td>\n",
              "    </tr>\n",
              "    <tr>\n",
              "      <th>3</th>\n",
              "      <td>1</td>\n",
              "      <td>1</td>\n",
              "      <td>0</td>\n",
              "      <td>0</td>\n",
              "      <td>0</td>\n",
              "      <td>0</td>\n",
              "      <td>0</td>\n",
              "      <td>0</td>\n",
              "      <td>0</td>\n",
              "      <td>0</td>\n",
              "      <td>...</td>\n",
              "      <td>0</td>\n",
              "      <td>0</td>\n",
              "      <td>0</td>\n",
              "      <td>0</td>\n",
              "      <td>0</td>\n",
              "      <td>0</td>\n",
              "      <td>0</td>\n",
              "      <td>0</td>\n",
              "      <td>0</td>\n",
              "      <td>Fungal infection</td>\n",
              "    </tr>\n",
              "    <tr>\n",
              "      <th>4</th>\n",
              "      <td>1</td>\n",
              "      <td>1</td>\n",
              "      <td>1</td>\n",
              "      <td>0</td>\n",
              "      <td>0</td>\n",
              "      <td>0</td>\n",
              "      <td>0</td>\n",
              "      <td>0</td>\n",
              "      <td>0</td>\n",
              "      <td>0</td>\n",
              "      <td>...</td>\n",
              "      <td>0</td>\n",
              "      <td>0</td>\n",
              "      <td>0</td>\n",
              "      <td>0</td>\n",
              "      <td>0</td>\n",
              "      <td>0</td>\n",
              "      <td>0</td>\n",
              "      <td>0</td>\n",
              "      <td>0</td>\n",
              "      <td>Fungal infection</td>\n",
              "    </tr>\n",
              "  </tbody>\n",
              "</table>\n",
              "<p>5 rows × 133 columns</p>\n",
              "</div>\n",
              "      <button class=\"colab-df-convert\" onclick=\"convertToInteractive('df-e94196ae-834f-4a5f-9b8a-aaa7e50d1312')\"\n",
              "              title=\"Convert this dataframe to an interactive table.\"\n",
              "              style=\"display:none;\">\n",
              "        \n",
              "  <svg xmlns=\"http://www.w3.org/2000/svg\" height=\"24px\"viewBox=\"0 0 24 24\"\n",
              "       width=\"24px\">\n",
              "    <path d=\"M0 0h24v24H0V0z\" fill=\"none\"/>\n",
              "    <path d=\"M18.56 5.44l.94 2.06.94-2.06 2.06-.94-2.06-.94-.94-2.06-.94 2.06-2.06.94zm-11 1L8.5 8.5l.94-2.06 2.06-.94-2.06-.94L8.5 2.5l-.94 2.06-2.06.94zm10 10l.94 2.06.94-2.06 2.06-.94-2.06-.94-.94-2.06-.94 2.06-2.06.94z\"/><path d=\"M17.41 7.96l-1.37-1.37c-.4-.4-.92-.59-1.43-.59-.52 0-1.04.2-1.43.59L10.3 9.45l-7.72 7.72c-.78.78-.78 2.05 0 2.83L4 21.41c.39.39.9.59 1.41.59.51 0 1.02-.2 1.41-.59l7.78-7.78 2.81-2.81c.8-.78.8-2.07 0-2.86zM5.41 20L4 18.59l7.72-7.72 1.47 1.35L5.41 20z\"/>\n",
              "  </svg>\n",
              "      </button>\n",
              "      \n",
              "  <style>\n",
              "    .colab-df-container {\n",
              "      display:flex;\n",
              "      flex-wrap:wrap;\n",
              "      gap: 12px;\n",
              "    }\n",
              "\n",
              "    .colab-df-convert {\n",
              "      background-color: #E8F0FE;\n",
              "      border: none;\n",
              "      border-radius: 50%;\n",
              "      cursor: pointer;\n",
              "      display: none;\n",
              "      fill: #1967D2;\n",
              "      height: 32px;\n",
              "      padding: 0 0 0 0;\n",
              "      width: 32px;\n",
              "    }\n",
              "\n",
              "    .colab-df-convert:hover {\n",
              "      background-color: #E2EBFA;\n",
              "      box-shadow: 0px 1px 2px rgba(60, 64, 67, 0.3), 0px 1px 3px 1px rgba(60, 64, 67, 0.15);\n",
              "      fill: #174EA6;\n",
              "    }\n",
              "\n",
              "    [theme=dark] .colab-df-convert {\n",
              "      background-color: #3B4455;\n",
              "      fill: #D2E3FC;\n",
              "    }\n",
              "\n",
              "    [theme=dark] .colab-df-convert:hover {\n",
              "      background-color: #434B5C;\n",
              "      box-shadow: 0px 1px 3px 1px rgba(0, 0, 0, 0.15);\n",
              "      filter: drop-shadow(0px 1px 2px rgba(0, 0, 0, 0.3));\n",
              "      fill: #FFFFFF;\n",
              "    }\n",
              "  </style>\n",
              "\n",
              "      <script>\n",
              "        const buttonEl =\n",
              "          document.querySelector('#df-e94196ae-834f-4a5f-9b8a-aaa7e50d1312 button.colab-df-convert');\n",
              "        buttonEl.style.display =\n",
              "          google.colab.kernel.accessAllowed ? 'block' : 'none';\n",
              "\n",
              "        async function convertToInteractive(key) {\n",
              "          const element = document.querySelector('#df-e94196ae-834f-4a5f-9b8a-aaa7e50d1312');\n",
              "          const dataTable =\n",
              "            await google.colab.kernel.invokeFunction('convertToInteractive',\n",
              "                                                     [key], {});\n",
              "          if (!dataTable) return;\n",
              "\n",
              "          const docLinkHtml = 'Like what you see? Visit the ' +\n",
              "            '<a target=\"_blank\" href=https://colab.research.google.com/notebooks/data_table.ipynb>data table notebook</a>'\n",
              "            + ' to learn more about interactive tables.';\n",
              "          element.innerHTML = '';\n",
              "          dataTable['output_type'] = 'display_data';\n",
              "          await google.colab.output.renderOutput(dataTable, element);\n",
              "          const docLink = document.createElement('div');\n",
              "          docLink.innerHTML = docLinkHtml;\n",
              "          element.appendChild(docLink);\n",
              "        }\n",
              "      </script>\n",
              "    </div>\n",
              "  </div>\n",
              "  "
            ]
          },
          "metadata": {},
          "execution_count": 4
        }
      ]
    },
    {
      "cell_type": "code",
      "source": [
        "disease.info()\n",
        "# info of data\n"
      ],
      "metadata": {
        "colab": {
          "base_uri": "https://localhost:8080/"
        },
        "id": "CEQ00aPdvwT4",
        "outputId": "7e4fed02-fde4-458b-8654-57c8ba3bcfe8"
      },
      "execution_count": null,
      "outputs": [
        {
          "output_type": "stream",
          "name": "stdout",
          "text": [
            "<class 'pandas.core.frame.DataFrame'>\n",
            "RangeIndex: 4920 entries, 0 to 4919\n",
            "Columns: 133 entries, itching to prognosis\n",
            "dtypes: int64(132), object(1)\n",
            "memory usage: 5.0+ MB\n"
          ]
        }
      ]
    },
    {
      "cell_type": "code",
      "source": [
        "# summary statistics\n",
        "disease.describe()"
      ],
      "metadata": {
        "colab": {
          "base_uri": "https://localhost:8080/",
          "height": 393
        },
        "id": "dwf657_Rv1T2",
        "outputId": "f4b49a5c-6462-4188-b29d-ff8e31eafc72"
      },
      "execution_count": null,
      "outputs": [
        {
          "output_type": "execute_result",
          "data": {
            "text/plain": [
              "           itching    skin_rash  nodal_skin_eruptions  continuous_sneezing  \\\n",
              "count  4920.000000  4920.000000           4920.000000          4920.000000   \n",
              "mean      0.137805     0.159756              0.021951             0.045122   \n",
              "std       0.344730     0.366417              0.146539             0.207593   \n",
              "min       0.000000     0.000000              0.000000             0.000000   \n",
              "25%       0.000000     0.000000              0.000000             0.000000   \n",
              "50%       0.000000     0.000000              0.000000             0.000000   \n",
              "75%       0.000000     0.000000              0.000000             0.000000   \n",
              "max       1.000000     1.000000              1.000000             1.000000   \n",
              "\n",
              "         shivering       chills   joint_pain  stomach_pain      acidity  \\\n",
              "count  4920.000000  4920.000000  4920.000000   4920.000000  4920.000000   \n",
              "mean      0.021951     0.162195     0.139024      0.045122     0.045122   \n",
              "std       0.146539     0.368667     0.346007      0.207593     0.207593   \n",
              "min       0.000000     0.000000     0.000000      0.000000     0.000000   \n",
              "25%       0.000000     0.000000     0.000000      0.000000     0.000000   \n",
              "50%       0.000000     0.000000     0.000000      0.000000     0.000000   \n",
              "75%       0.000000     0.000000     0.000000      0.000000     0.000000   \n",
              "max       1.000000     1.000000     1.000000      1.000000     1.000000   \n",
              "\n",
              "       ulcers_on_tongue  ...  pus_filled_pimples   blackheads     scurring  \\\n",
              "count       4920.000000  ...         4920.000000  4920.000000  4920.000000   \n",
              "mean           0.021951  ...            0.021951     0.021951     0.021951   \n",
              "std            0.146539  ...            0.146539     0.146539     0.146539   \n",
              "min            0.000000  ...            0.000000     0.000000     0.000000   \n",
              "25%            0.000000  ...            0.000000     0.000000     0.000000   \n",
              "50%            0.000000  ...            0.000000     0.000000     0.000000   \n",
              "75%            0.000000  ...            0.000000     0.000000     0.000000   \n",
              "max            1.000000  ...            1.000000     1.000000     1.000000   \n",
              "\n",
              "       skin_peeling  silver_like_dusting  small_dents_in_nails  \\\n",
              "count   4920.000000          4920.000000           4920.000000   \n",
              "mean       0.023171             0.023171              0.023171   \n",
              "std        0.150461             0.150461              0.150461   \n",
              "min        0.000000             0.000000              0.000000   \n",
              "25%        0.000000             0.000000              0.000000   \n",
              "50%        0.000000             0.000000              0.000000   \n",
              "75%        0.000000             0.000000              0.000000   \n",
              "max        1.000000             1.000000              1.000000   \n",
              "\n",
              "       inflammatory_nails      blister  red_sore_around_nose  \\\n",
              "count         4920.000000  4920.000000           4920.000000   \n",
              "mean             0.023171     0.023171              0.023171   \n",
              "std              0.150461     0.150461              0.150461   \n",
              "min              0.000000     0.000000              0.000000   \n",
              "25%              0.000000     0.000000              0.000000   \n",
              "50%              0.000000     0.000000              0.000000   \n",
              "75%              0.000000     0.000000              0.000000   \n",
              "max              1.000000     1.000000              1.000000   \n",
              "\n",
              "       yellow_crust_ooze  \n",
              "count        4920.000000  \n",
              "mean            0.023171  \n",
              "std             0.150461  \n",
              "min             0.000000  \n",
              "25%             0.000000  \n",
              "50%             0.000000  \n",
              "75%             0.000000  \n",
              "max             1.000000  \n",
              "\n",
              "[8 rows x 132 columns]"
            ],
            "text/html": [
              "\n",
              "  <div id=\"df-86c98598-4164-410d-a15c-23baffea48ff\">\n",
              "    <div class=\"colab-df-container\">\n",
              "      <div>\n",
              "<style scoped>\n",
              "    .dataframe tbody tr th:only-of-type {\n",
              "        vertical-align: middle;\n",
              "    }\n",
              "\n",
              "    .dataframe tbody tr th {\n",
              "        vertical-align: top;\n",
              "    }\n",
              "\n",
              "    .dataframe thead th {\n",
              "        text-align: right;\n",
              "    }\n",
              "</style>\n",
              "<table border=\"1\" class=\"dataframe\">\n",
              "  <thead>\n",
              "    <tr style=\"text-align: right;\">\n",
              "      <th></th>\n",
              "      <th>itching</th>\n",
              "      <th>skin_rash</th>\n",
              "      <th>nodal_skin_eruptions</th>\n",
              "      <th>continuous_sneezing</th>\n",
              "      <th>shivering</th>\n",
              "      <th>chills</th>\n",
              "      <th>joint_pain</th>\n",
              "      <th>stomach_pain</th>\n",
              "      <th>acidity</th>\n",
              "      <th>ulcers_on_tongue</th>\n",
              "      <th>...</th>\n",
              "      <th>pus_filled_pimples</th>\n",
              "      <th>blackheads</th>\n",
              "      <th>scurring</th>\n",
              "      <th>skin_peeling</th>\n",
              "      <th>silver_like_dusting</th>\n",
              "      <th>small_dents_in_nails</th>\n",
              "      <th>inflammatory_nails</th>\n",
              "      <th>blister</th>\n",
              "      <th>red_sore_around_nose</th>\n",
              "      <th>yellow_crust_ooze</th>\n",
              "    </tr>\n",
              "  </thead>\n",
              "  <tbody>\n",
              "    <tr>\n",
              "      <th>count</th>\n",
              "      <td>4920.000000</td>\n",
              "      <td>4920.000000</td>\n",
              "      <td>4920.000000</td>\n",
              "      <td>4920.000000</td>\n",
              "      <td>4920.000000</td>\n",
              "      <td>4920.000000</td>\n",
              "      <td>4920.000000</td>\n",
              "      <td>4920.000000</td>\n",
              "      <td>4920.000000</td>\n",
              "      <td>4920.000000</td>\n",
              "      <td>...</td>\n",
              "      <td>4920.000000</td>\n",
              "      <td>4920.000000</td>\n",
              "      <td>4920.000000</td>\n",
              "      <td>4920.000000</td>\n",
              "      <td>4920.000000</td>\n",
              "      <td>4920.000000</td>\n",
              "      <td>4920.000000</td>\n",
              "      <td>4920.000000</td>\n",
              "      <td>4920.000000</td>\n",
              "      <td>4920.000000</td>\n",
              "    </tr>\n",
              "    <tr>\n",
              "      <th>mean</th>\n",
              "      <td>0.137805</td>\n",
              "      <td>0.159756</td>\n",
              "      <td>0.021951</td>\n",
              "      <td>0.045122</td>\n",
              "      <td>0.021951</td>\n",
              "      <td>0.162195</td>\n",
              "      <td>0.139024</td>\n",
              "      <td>0.045122</td>\n",
              "      <td>0.045122</td>\n",
              "      <td>0.021951</td>\n",
              "      <td>...</td>\n",
              "      <td>0.021951</td>\n",
              "      <td>0.021951</td>\n",
              "      <td>0.021951</td>\n",
              "      <td>0.023171</td>\n",
              "      <td>0.023171</td>\n",
              "      <td>0.023171</td>\n",
              "      <td>0.023171</td>\n",
              "      <td>0.023171</td>\n",
              "      <td>0.023171</td>\n",
              "      <td>0.023171</td>\n",
              "    </tr>\n",
              "    <tr>\n",
              "      <th>std</th>\n",
              "      <td>0.344730</td>\n",
              "      <td>0.366417</td>\n",
              "      <td>0.146539</td>\n",
              "      <td>0.207593</td>\n",
              "      <td>0.146539</td>\n",
              "      <td>0.368667</td>\n",
              "      <td>0.346007</td>\n",
              "      <td>0.207593</td>\n",
              "      <td>0.207593</td>\n",
              "      <td>0.146539</td>\n",
              "      <td>...</td>\n",
              "      <td>0.146539</td>\n",
              "      <td>0.146539</td>\n",
              "      <td>0.146539</td>\n",
              "      <td>0.150461</td>\n",
              "      <td>0.150461</td>\n",
              "      <td>0.150461</td>\n",
              "      <td>0.150461</td>\n",
              "      <td>0.150461</td>\n",
              "      <td>0.150461</td>\n",
              "      <td>0.150461</td>\n",
              "    </tr>\n",
              "    <tr>\n",
              "      <th>min</th>\n",
              "      <td>0.000000</td>\n",
              "      <td>0.000000</td>\n",
              "      <td>0.000000</td>\n",
              "      <td>0.000000</td>\n",
              "      <td>0.000000</td>\n",
              "      <td>0.000000</td>\n",
              "      <td>0.000000</td>\n",
              "      <td>0.000000</td>\n",
              "      <td>0.000000</td>\n",
              "      <td>0.000000</td>\n",
              "      <td>...</td>\n",
              "      <td>0.000000</td>\n",
              "      <td>0.000000</td>\n",
              "      <td>0.000000</td>\n",
              "      <td>0.000000</td>\n",
              "      <td>0.000000</td>\n",
              "      <td>0.000000</td>\n",
              "      <td>0.000000</td>\n",
              "      <td>0.000000</td>\n",
              "      <td>0.000000</td>\n",
              "      <td>0.000000</td>\n",
              "    </tr>\n",
              "    <tr>\n",
              "      <th>25%</th>\n",
              "      <td>0.000000</td>\n",
              "      <td>0.000000</td>\n",
              "      <td>0.000000</td>\n",
              "      <td>0.000000</td>\n",
              "      <td>0.000000</td>\n",
              "      <td>0.000000</td>\n",
              "      <td>0.000000</td>\n",
              "      <td>0.000000</td>\n",
              "      <td>0.000000</td>\n",
              "      <td>0.000000</td>\n",
              "      <td>...</td>\n",
              "      <td>0.000000</td>\n",
              "      <td>0.000000</td>\n",
              "      <td>0.000000</td>\n",
              "      <td>0.000000</td>\n",
              "      <td>0.000000</td>\n",
              "      <td>0.000000</td>\n",
              "      <td>0.000000</td>\n",
              "      <td>0.000000</td>\n",
              "      <td>0.000000</td>\n",
              "      <td>0.000000</td>\n",
              "    </tr>\n",
              "    <tr>\n",
              "      <th>50%</th>\n",
              "      <td>0.000000</td>\n",
              "      <td>0.000000</td>\n",
              "      <td>0.000000</td>\n",
              "      <td>0.000000</td>\n",
              "      <td>0.000000</td>\n",
              "      <td>0.000000</td>\n",
              "      <td>0.000000</td>\n",
              "      <td>0.000000</td>\n",
              "      <td>0.000000</td>\n",
              "      <td>0.000000</td>\n",
              "      <td>...</td>\n",
              "      <td>0.000000</td>\n",
              "      <td>0.000000</td>\n",
              "      <td>0.000000</td>\n",
              "      <td>0.000000</td>\n",
              "      <td>0.000000</td>\n",
              "      <td>0.000000</td>\n",
              "      <td>0.000000</td>\n",
              "      <td>0.000000</td>\n",
              "      <td>0.000000</td>\n",
              "      <td>0.000000</td>\n",
              "    </tr>\n",
              "    <tr>\n",
              "      <th>75%</th>\n",
              "      <td>0.000000</td>\n",
              "      <td>0.000000</td>\n",
              "      <td>0.000000</td>\n",
              "      <td>0.000000</td>\n",
              "      <td>0.000000</td>\n",
              "      <td>0.000000</td>\n",
              "      <td>0.000000</td>\n",
              "      <td>0.000000</td>\n",
              "      <td>0.000000</td>\n",
              "      <td>0.000000</td>\n",
              "      <td>...</td>\n",
              "      <td>0.000000</td>\n",
              "      <td>0.000000</td>\n",
              "      <td>0.000000</td>\n",
              "      <td>0.000000</td>\n",
              "      <td>0.000000</td>\n",
              "      <td>0.000000</td>\n",
              "      <td>0.000000</td>\n",
              "      <td>0.000000</td>\n",
              "      <td>0.000000</td>\n",
              "      <td>0.000000</td>\n",
              "    </tr>\n",
              "    <tr>\n",
              "      <th>max</th>\n",
              "      <td>1.000000</td>\n",
              "      <td>1.000000</td>\n",
              "      <td>1.000000</td>\n",
              "      <td>1.000000</td>\n",
              "      <td>1.000000</td>\n",
              "      <td>1.000000</td>\n",
              "      <td>1.000000</td>\n",
              "      <td>1.000000</td>\n",
              "      <td>1.000000</td>\n",
              "      <td>1.000000</td>\n",
              "      <td>...</td>\n",
              "      <td>1.000000</td>\n",
              "      <td>1.000000</td>\n",
              "      <td>1.000000</td>\n",
              "      <td>1.000000</td>\n",
              "      <td>1.000000</td>\n",
              "      <td>1.000000</td>\n",
              "      <td>1.000000</td>\n",
              "      <td>1.000000</td>\n",
              "      <td>1.000000</td>\n",
              "      <td>1.000000</td>\n",
              "    </tr>\n",
              "  </tbody>\n",
              "</table>\n",
              "<p>8 rows × 132 columns</p>\n",
              "</div>\n",
              "      <button class=\"colab-df-convert\" onclick=\"convertToInteractive('df-86c98598-4164-410d-a15c-23baffea48ff')\"\n",
              "              title=\"Convert this dataframe to an interactive table.\"\n",
              "              style=\"display:none;\">\n",
              "        \n",
              "  <svg xmlns=\"http://www.w3.org/2000/svg\" height=\"24px\"viewBox=\"0 0 24 24\"\n",
              "       width=\"24px\">\n",
              "    <path d=\"M0 0h24v24H0V0z\" fill=\"none\"/>\n",
              "    <path d=\"M18.56 5.44l.94 2.06.94-2.06 2.06-.94-2.06-.94-.94-2.06-.94 2.06-2.06.94zm-11 1L8.5 8.5l.94-2.06 2.06-.94-2.06-.94L8.5 2.5l-.94 2.06-2.06.94zm10 10l.94 2.06.94-2.06 2.06-.94-2.06-.94-.94-2.06-.94 2.06-2.06.94z\"/><path d=\"M17.41 7.96l-1.37-1.37c-.4-.4-.92-.59-1.43-.59-.52 0-1.04.2-1.43.59L10.3 9.45l-7.72 7.72c-.78.78-.78 2.05 0 2.83L4 21.41c.39.39.9.59 1.41.59.51 0 1.02-.2 1.41-.59l7.78-7.78 2.81-2.81c.8-.78.8-2.07 0-2.86zM5.41 20L4 18.59l7.72-7.72 1.47 1.35L5.41 20z\"/>\n",
              "  </svg>\n",
              "      </button>\n",
              "      \n",
              "  <style>\n",
              "    .colab-df-container {\n",
              "      display:flex;\n",
              "      flex-wrap:wrap;\n",
              "      gap: 12px;\n",
              "    }\n",
              "\n",
              "    .colab-df-convert {\n",
              "      background-color: #E8F0FE;\n",
              "      border: none;\n",
              "      border-radius: 50%;\n",
              "      cursor: pointer;\n",
              "      display: none;\n",
              "      fill: #1967D2;\n",
              "      height: 32px;\n",
              "      padding: 0 0 0 0;\n",
              "      width: 32px;\n",
              "    }\n",
              "\n",
              "    .colab-df-convert:hover {\n",
              "      background-color: #E2EBFA;\n",
              "      box-shadow: 0px 1px 2px rgba(60, 64, 67, 0.3), 0px 1px 3px 1px rgba(60, 64, 67, 0.15);\n",
              "      fill: #174EA6;\n",
              "    }\n",
              "\n",
              "    [theme=dark] .colab-df-convert {\n",
              "      background-color: #3B4455;\n",
              "      fill: #D2E3FC;\n",
              "    }\n",
              "\n",
              "    [theme=dark] .colab-df-convert:hover {\n",
              "      background-color: #434B5C;\n",
              "      box-shadow: 0px 1px 3px 1px rgba(0, 0, 0, 0.15);\n",
              "      filter: drop-shadow(0px 1px 2px rgba(0, 0, 0, 0.3));\n",
              "      fill: #FFFFFF;\n",
              "    }\n",
              "  </style>\n",
              "\n",
              "      <script>\n",
              "        const buttonEl =\n",
              "          document.querySelector('#df-86c98598-4164-410d-a15c-23baffea48ff button.colab-df-convert');\n",
              "        buttonEl.style.display =\n",
              "          google.colab.kernel.accessAllowed ? 'block' : 'none';\n",
              "\n",
              "        async function convertToInteractive(key) {\n",
              "          const element = document.querySelector('#df-86c98598-4164-410d-a15c-23baffea48ff');\n",
              "          const dataTable =\n",
              "            await google.colab.kernel.invokeFunction('convertToInteractive',\n",
              "                                                     [key], {});\n",
              "          if (!dataTable) return;\n",
              "\n",
              "          const docLinkHtml = 'Like what you see? Visit the ' +\n",
              "            '<a target=\"_blank\" href=https://colab.research.google.com/notebooks/data_table.ipynb>data table notebook</a>'\n",
              "            + ' to learn more about interactive tables.';\n",
              "          element.innerHTML = '';\n",
              "          dataTable['output_type'] = 'display_data';\n",
              "          await google.colab.output.renderOutput(dataTable, element);\n",
              "          const docLink = document.createElement('div');\n",
              "          docLink.innerHTML = docLinkHtml;\n",
              "          element.appendChild(docLink);\n",
              "        }\n",
              "      </script>\n",
              "    </div>\n",
              "  </div>\n",
              "  "
            ]
          },
          "metadata": {},
          "execution_count": 6
        }
      ]
    },
    {
      "cell_type": "code",
      "source": [
        "disease.isnull().sum()\n",
        "# check for missing value\n"
      ],
      "metadata": {
        "colab": {
          "base_uri": "https://localhost:8080/"
        },
        "id": "yvLoDmdcv5Qm",
        "outputId": "fbd33f19-7b3d-4af6-f904-ea30da3e9333"
      },
      "execution_count": null,
      "outputs": [
        {
          "output_type": "execute_result",
          "data": {
            "text/plain": [
              "itching                 0\n",
              "skin_rash               0\n",
              "nodal_skin_eruptions    0\n",
              "continuous_sneezing     0\n",
              "shivering               0\n",
              "                       ..\n",
              "inflammatory_nails      0\n",
              "blister                 0\n",
              "red_sore_around_nose    0\n",
              "yellow_crust_ooze       0\n",
              "prognosis               0\n",
              "Length: 133, dtype: int64"
            ]
          },
          "metadata": {},
          "execution_count": 7
        }
      ]
    },
    {
      "cell_type": "code",
      "source": [
        "# check for categories\n",
        "disease.dtypes"
      ],
      "metadata": {
        "colab": {
          "base_uri": "https://localhost:8080/"
        },
        "id": "0dNMNNIvwBtd",
        "outputId": "054e6011-1d59-4492-8003-2063e77cc2ad"
      },
      "execution_count": null,
      "outputs": [
        {
          "output_type": "execute_result",
          "data": {
            "text/plain": [
              "itching                  int64\n",
              "skin_rash                int64\n",
              "nodal_skin_eruptions     int64\n",
              "continuous_sneezing      int64\n",
              "shivering                int64\n",
              "                         ...  \n",
              "inflammatory_nails       int64\n",
              "blister                  int64\n",
              "red_sore_around_nose     int64\n",
              "yellow_crust_ooze        int64\n",
              "prognosis               object\n",
              "Length: 133, dtype: object"
            ]
          },
          "metadata": {},
          "execution_count": 8
        }
      ]
    },
    {
      "cell_type": "code",
      "source": [
        "# correlation\n",
        "disease.corr()"
      ],
      "metadata": {
        "colab": {
          "base_uri": "https://localhost:8080/",
          "height": 487
        },
        "id": "nF78p-E0CLKY",
        "outputId": "1c789b9e-12f7-4b52-8405-c4c09b3eabe6"
      },
      "execution_count": null,
      "outputs": [
        {
          "output_type": "execute_result",
          "data": {
            "text/plain": [
              "                       itching  skin_rash  nodal_skin_eruptions  \\\n",
              "itching               1.000000   0.318158              0.326439   \n",
              "skin_rash             0.318158   1.000000              0.298143   \n",
              "nodal_skin_eruptions  0.326439   0.298143              1.000000   \n",
              "continuous_sneezing  -0.086906  -0.094786             -0.032566   \n",
              "shivering            -0.059893  -0.065324             -0.022444   \n",
              "...                        ...        ...                   ...   \n",
              "small_dents_in_nails -0.061573   0.331087             -0.023073   \n",
              "inflammatory_nails   -0.061573   0.331087             -0.023073   \n",
              "blister              -0.061573   0.331087             -0.023073   \n",
              "red_sore_around_nose -0.061573   0.331087             -0.023073   \n",
              "yellow_crust_ooze    -0.061573   0.331087             -0.023073   \n",
              "\n",
              "                      continuous_sneezing  shivering    chills  joint_pain  \\\n",
              "itching                         -0.086906  -0.059893 -0.175905   -0.160650   \n",
              "skin_rash                       -0.094786  -0.065324 -0.029324    0.171134   \n",
              "nodal_skin_eruptions            -0.032566  -0.022444 -0.065917   -0.060200   \n",
              "continuous_sneezing              1.000000   0.608981  0.446238   -0.087351   \n",
              "shivering                        0.608981   1.000000  0.295332   -0.060200   \n",
              "...                                   ...        ...       ...         ...   \n",
              "small_dents_in_nails            -0.033480  -0.023073 -0.067765    0.359845   \n",
              "inflammatory_nails              -0.033480  -0.023073 -0.067765    0.359845   \n",
              "blister                         -0.033480  -0.023073 -0.067765   -0.061889   \n",
              "red_sore_around_nose            -0.033480  -0.023073 -0.067765   -0.061889   \n",
              "yellow_crust_ooze               -0.033480  -0.023073 -0.067765   -0.061889   \n",
              "\n",
              "                      stomach_pain   acidity  ulcers_on_tongue  ...  \\\n",
              "itching                   0.202850 -0.086906         -0.059893  ...   \n",
              "skin_rash                 0.161784 -0.094786         -0.065324  ...   \n",
              "nodal_skin_eruptions     -0.032566 -0.032566         -0.022444  ...   \n",
              "continuous_sneezing      -0.047254 -0.047254         -0.032566  ...   \n",
              "shivering                -0.032566 -0.032566         -0.022444  ...   \n",
              "...                            ...       ...               ...  ...   \n",
              "small_dents_in_nails     -0.033480 -0.033480         -0.023073  ...   \n",
              "inflammatory_nails       -0.033480 -0.033480         -0.023073  ...   \n",
              "blister                  -0.033480 -0.033480         -0.023073  ...   \n",
              "red_sore_around_nose     -0.033480 -0.033480         -0.023073  ...   \n",
              "yellow_crust_ooze        -0.033480 -0.033480         -0.023073  ...   \n",
              "\n",
              "                      pus_filled_pimples  blackheads  scurring  skin_peeling  \\\n",
              "itching                        -0.059893   -0.059893 -0.059893     -0.061573   \n",
              "skin_rash                       0.320859    0.320859  0.320859      0.331087   \n",
              "nodal_skin_eruptions           -0.022444   -0.022444 -0.022444     -0.023073   \n",
              "continuous_sneezing            -0.032566   -0.032566 -0.032566     -0.033480   \n",
              "shivering                      -0.022444   -0.022444 -0.022444     -0.023073   \n",
              "...                                  ...         ...       ...           ...   \n",
              "small_dents_in_nails           -0.023073   -0.023073 -0.023073      0.946120   \n",
              "inflammatory_nails             -0.023073   -0.023073 -0.023073      0.946120   \n",
              "blister                        -0.023073   -0.023073 -0.023073     -0.023720   \n",
              "red_sore_around_nose           -0.023073   -0.023073 -0.023073     -0.023720   \n",
              "yellow_crust_ooze              -0.023073   -0.023073 -0.023073     -0.023720   \n",
              "\n",
              "                      silver_like_dusting  small_dents_in_nails  \\\n",
              "itching                         -0.061573             -0.061573   \n",
              "skin_rash                        0.331087              0.331087   \n",
              "nodal_skin_eruptions            -0.023073             -0.023073   \n",
              "continuous_sneezing             -0.033480             -0.033480   \n",
              "shivering                       -0.023073             -0.023073   \n",
              "...                                   ...                   ...   \n",
              "small_dents_in_nails             0.946120              1.000000   \n",
              "inflammatory_nails               0.946120              0.946120   \n",
              "blister                         -0.023720             -0.023720   \n",
              "red_sore_around_nose            -0.023720             -0.023720   \n",
              "yellow_crust_ooze               -0.023720             -0.023720   \n",
              "\n",
              "                      inflammatory_nails   blister  red_sore_around_nose  \\\n",
              "itching                        -0.061573 -0.061573             -0.061573   \n",
              "skin_rash                       0.331087  0.331087              0.331087   \n",
              "nodal_skin_eruptions           -0.023073 -0.023073             -0.023073   \n",
              "continuous_sneezing            -0.033480 -0.033480             -0.033480   \n",
              "shivering                      -0.023073 -0.023073             -0.023073   \n",
              "...                                  ...       ...                   ...   \n",
              "small_dents_in_nails            0.946120 -0.023720             -0.023720   \n",
              "inflammatory_nails              1.000000 -0.023720             -0.023720   \n",
              "blister                        -0.023720  1.000000              0.946120   \n",
              "red_sore_around_nose           -0.023720  0.946120              1.000000   \n",
              "yellow_crust_ooze              -0.023720  0.946120              0.946120   \n",
              "\n",
              "                      yellow_crust_ooze  \n",
              "itching                       -0.061573  \n",
              "skin_rash                      0.331087  \n",
              "nodal_skin_eruptions          -0.023073  \n",
              "continuous_sneezing           -0.033480  \n",
              "shivering                     -0.023073  \n",
              "...                                 ...  \n",
              "small_dents_in_nails          -0.023720  \n",
              "inflammatory_nails            -0.023720  \n",
              "blister                        0.946120  \n",
              "red_sore_around_nose           0.946120  \n",
              "yellow_crust_ooze              1.000000  \n",
              "\n",
              "[132 rows x 132 columns]"
            ],
            "text/html": [
              "\n",
              "  <div id=\"df-389bf2d9-d075-4205-89d6-34a78013c890\">\n",
              "    <div class=\"colab-df-container\">\n",
              "      <div>\n",
              "<style scoped>\n",
              "    .dataframe tbody tr th:only-of-type {\n",
              "        vertical-align: middle;\n",
              "    }\n",
              "\n",
              "    .dataframe tbody tr th {\n",
              "        vertical-align: top;\n",
              "    }\n",
              "\n",
              "    .dataframe thead th {\n",
              "        text-align: right;\n",
              "    }\n",
              "</style>\n",
              "<table border=\"1\" class=\"dataframe\">\n",
              "  <thead>\n",
              "    <tr style=\"text-align: right;\">\n",
              "      <th></th>\n",
              "      <th>itching</th>\n",
              "      <th>skin_rash</th>\n",
              "      <th>nodal_skin_eruptions</th>\n",
              "      <th>continuous_sneezing</th>\n",
              "      <th>shivering</th>\n",
              "      <th>chills</th>\n",
              "      <th>joint_pain</th>\n",
              "      <th>stomach_pain</th>\n",
              "      <th>acidity</th>\n",
              "      <th>ulcers_on_tongue</th>\n",
              "      <th>...</th>\n",
              "      <th>pus_filled_pimples</th>\n",
              "      <th>blackheads</th>\n",
              "      <th>scurring</th>\n",
              "      <th>skin_peeling</th>\n",
              "      <th>silver_like_dusting</th>\n",
              "      <th>small_dents_in_nails</th>\n",
              "      <th>inflammatory_nails</th>\n",
              "      <th>blister</th>\n",
              "      <th>red_sore_around_nose</th>\n",
              "      <th>yellow_crust_ooze</th>\n",
              "    </tr>\n",
              "  </thead>\n",
              "  <tbody>\n",
              "    <tr>\n",
              "      <th>itching</th>\n",
              "      <td>1.000000</td>\n",
              "      <td>0.318158</td>\n",
              "      <td>0.326439</td>\n",
              "      <td>-0.086906</td>\n",
              "      <td>-0.059893</td>\n",
              "      <td>-0.175905</td>\n",
              "      <td>-0.160650</td>\n",
              "      <td>0.202850</td>\n",
              "      <td>-0.086906</td>\n",
              "      <td>-0.059893</td>\n",
              "      <td>...</td>\n",
              "      <td>-0.059893</td>\n",
              "      <td>-0.059893</td>\n",
              "      <td>-0.059893</td>\n",
              "      <td>-0.061573</td>\n",
              "      <td>-0.061573</td>\n",
              "      <td>-0.061573</td>\n",
              "      <td>-0.061573</td>\n",
              "      <td>-0.061573</td>\n",
              "      <td>-0.061573</td>\n",
              "      <td>-0.061573</td>\n",
              "    </tr>\n",
              "    <tr>\n",
              "      <th>skin_rash</th>\n",
              "      <td>0.318158</td>\n",
              "      <td>1.000000</td>\n",
              "      <td>0.298143</td>\n",
              "      <td>-0.094786</td>\n",
              "      <td>-0.065324</td>\n",
              "      <td>-0.029324</td>\n",
              "      <td>0.171134</td>\n",
              "      <td>0.161784</td>\n",
              "      <td>-0.094786</td>\n",
              "      <td>-0.065324</td>\n",
              "      <td>...</td>\n",
              "      <td>0.320859</td>\n",
              "      <td>0.320859</td>\n",
              "      <td>0.320859</td>\n",
              "      <td>0.331087</td>\n",
              "      <td>0.331087</td>\n",
              "      <td>0.331087</td>\n",
              "      <td>0.331087</td>\n",
              "      <td>0.331087</td>\n",
              "      <td>0.331087</td>\n",
              "      <td>0.331087</td>\n",
              "    </tr>\n",
              "    <tr>\n",
              "      <th>nodal_skin_eruptions</th>\n",
              "      <td>0.326439</td>\n",
              "      <td>0.298143</td>\n",
              "      <td>1.000000</td>\n",
              "      <td>-0.032566</td>\n",
              "      <td>-0.022444</td>\n",
              "      <td>-0.065917</td>\n",
              "      <td>-0.060200</td>\n",
              "      <td>-0.032566</td>\n",
              "      <td>-0.032566</td>\n",
              "      <td>-0.022444</td>\n",
              "      <td>...</td>\n",
              "      <td>-0.022444</td>\n",
              "      <td>-0.022444</td>\n",
              "      <td>-0.022444</td>\n",
              "      <td>-0.023073</td>\n",
              "      <td>-0.023073</td>\n",
              "      <td>-0.023073</td>\n",
              "      <td>-0.023073</td>\n",
              "      <td>-0.023073</td>\n",
              "      <td>-0.023073</td>\n",
              "      <td>-0.023073</td>\n",
              "    </tr>\n",
              "    <tr>\n",
              "      <th>continuous_sneezing</th>\n",
              "      <td>-0.086906</td>\n",
              "      <td>-0.094786</td>\n",
              "      <td>-0.032566</td>\n",
              "      <td>1.000000</td>\n",
              "      <td>0.608981</td>\n",
              "      <td>0.446238</td>\n",
              "      <td>-0.087351</td>\n",
              "      <td>-0.047254</td>\n",
              "      <td>-0.047254</td>\n",
              "      <td>-0.032566</td>\n",
              "      <td>...</td>\n",
              "      <td>-0.032566</td>\n",
              "      <td>-0.032566</td>\n",
              "      <td>-0.032566</td>\n",
              "      <td>-0.033480</td>\n",
              "      <td>-0.033480</td>\n",
              "      <td>-0.033480</td>\n",
              "      <td>-0.033480</td>\n",
              "      <td>-0.033480</td>\n",
              "      <td>-0.033480</td>\n",
              "      <td>-0.033480</td>\n",
              "    </tr>\n",
              "    <tr>\n",
              "      <th>shivering</th>\n",
              "      <td>-0.059893</td>\n",
              "      <td>-0.065324</td>\n",
              "      <td>-0.022444</td>\n",
              "      <td>0.608981</td>\n",
              "      <td>1.000000</td>\n",
              "      <td>0.295332</td>\n",
              "      <td>-0.060200</td>\n",
              "      <td>-0.032566</td>\n",
              "      <td>-0.032566</td>\n",
              "      <td>-0.022444</td>\n",
              "      <td>...</td>\n",
              "      <td>-0.022444</td>\n",
              "      <td>-0.022444</td>\n",
              "      <td>-0.022444</td>\n",
              "      <td>-0.023073</td>\n",
              "      <td>-0.023073</td>\n",
              "      <td>-0.023073</td>\n",
              "      <td>-0.023073</td>\n",
              "      <td>-0.023073</td>\n",
              "      <td>-0.023073</td>\n",
              "      <td>-0.023073</td>\n",
              "    </tr>\n",
              "    <tr>\n",
              "      <th>...</th>\n",
              "      <td>...</td>\n",
              "      <td>...</td>\n",
              "      <td>...</td>\n",
              "      <td>...</td>\n",
              "      <td>...</td>\n",
              "      <td>...</td>\n",
              "      <td>...</td>\n",
              "      <td>...</td>\n",
              "      <td>...</td>\n",
              "      <td>...</td>\n",
              "      <td>...</td>\n",
              "      <td>...</td>\n",
              "      <td>...</td>\n",
              "      <td>...</td>\n",
              "      <td>...</td>\n",
              "      <td>...</td>\n",
              "      <td>...</td>\n",
              "      <td>...</td>\n",
              "      <td>...</td>\n",
              "      <td>...</td>\n",
              "      <td>...</td>\n",
              "    </tr>\n",
              "    <tr>\n",
              "      <th>small_dents_in_nails</th>\n",
              "      <td>-0.061573</td>\n",
              "      <td>0.331087</td>\n",
              "      <td>-0.023073</td>\n",
              "      <td>-0.033480</td>\n",
              "      <td>-0.023073</td>\n",
              "      <td>-0.067765</td>\n",
              "      <td>0.359845</td>\n",
              "      <td>-0.033480</td>\n",
              "      <td>-0.033480</td>\n",
              "      <td>-0.023073</td>\n",
              "      <td>...</td>\n",
              "      <td>-0.023073</td>\n",
              "      <td>-0.023073</td>\n",
              "      <td>-0.023073</td>\n",
              "      <td>0.946120</td>\n",
              "      <td>0.946120</td>\n",
              "      <td>1.000000</td>\n",
              "      <td>0.946120</td>\n",
              "      <td>-0.023720</td>\n",
              "      <td>-0.023720</td>\n",
              "      <td>-0.023720</td>\n",
              "    </tr>\n",
              "    <tr>\n",
              "      <th>inflammatory_nails</th>\n",
              "      <td>-0.061573</td>\n",
              "      <td>0.331087</td>\n",
              "      <td>-0.023073</td>\n",
              "      <td>-0.033480</td>\n",
              "      <td>-0.023073</td>\n",
              "      <td>-0.067765</td>\n",
              "      <td>0.359845</td>\n",
              "      <td>-0.033480</td>\n",
              "      <td>-0.033480</td>\n",
              "      <td>-0.023073</td>\n",
              "      <td>...</td>\n",
              "      <td>-0.023073</td>\n",
              "      <td>-0.023073</td>\n",
              "      <td>-0.023073</td>\n",
              "      <td>0.946120</td>\n",
              "      <td>0.946120</td>\n",
              "      <td>0.946120</td>\n",
              "      <td>1.000000</td>\n",
              "      <td>-0.023720</td>\n",
              "      <td>-0.023720</td>\n",
              "      <td>-0.023720</td>\n",
              "    </tr>\n",
              "    <tr>\n",
              "      <th>blister</th>\n",
              "      <td>-0.061573</td>\n",
              "      <td>0.331087</td>\n",
              "      <td>-0.023073</td>\n",
              "      <td>-0.033480</td>\n",
              "      <td>-0.023073</td>\n",
              "      <td>-0.067765</td>\n",
              "      <td>-0.061889</td>\n",
              "      <td>-0.033480</td>\n",
              "      <td>-0.033480</td>\n",
              "      <td>-0.023073</td>\n",
              "      <td>...</td>\n",
              "      <td>-0.023073</td>\n",
              "      <td>-0.023073</td>\n",
              "      <td>-0.023073</td>\n",
              "      <td>-0.023720</td>\n",
              "      <td>-0.023720</td>\n",
              "      <td>-0.023720</td>\n",
              "      <td>-0.023720</td>\n",
              "      <td>1.000000</td>\n",
              "      <td>0.946120</td>\n",
              "      <td>0.946120</td>\n",
              "    </tr>\n",
              "    <tr>\n",
              "      <th>red_sore_around_nose</th>\n",
              "      <td>-0.061573</td>\n",
              "      <td>0.331087</td>\n",
              "      <td>-0.023073</td>\n",
              "      <td>-0.033480</td>\n",
              "      <td>-0.023073</td>\n",
              "      <td>-0.067765</td>\n",
              "      <td>-0.061889</td>\n",
              "      <td>-0.033480</td>\n",
              "      <td>-0.033480</td>\n",
              "      <td>-0.023073</td>\n",
              "      <td>...</td>\n",
              "      <td>-0.023073</td>\n",
              "      <td>-0.023073</td>\n",
              "      <td>-0.023073</td>\n",
              "      <td>-0.023720</td>\n",
              "      <td>-0.023720</td>\n",
              "      <td>-0.023720</td>\n",
              "      <td>-0.023720</td>\n",
              "      <td>0.946120</td>\n",
              "      <td>1.000000</td>\n",
              "      <td>0.946120</td>\n",
              "    </tr>\n",
              "    <tr>\n",
              "      <th>yellow_crust_ooze</th>\n",
              "      <td>-0.061573</td>\n",
              "      <td>0.331087</td>\n",
              "      <td>-0.023073</td>\n",
              "      <td>-0.033480</td>\n",
              "      <td>-0.023073</td>\n",
              "      <td>-0.067765</td>\n",
              "      <td>-0.061889</td>\n",
              "      <td>-0.033480</td>\n",
              "      <td>-0.033480</td>\n",
              "      <td>-0.023073</td>\n",
              "      <td>...</td>\n",
              "      <td>-0.023073</td>\n",
              "      <td>-0.023073</td>\n",
              "      <td>-0.023073</td>\n",
              "      <td>-0.023720</td>\n",
              "      <td>-0.023720</td>\n",
              "      <td>-0.023720</td>\n",
              "      <td>-0.023720</td>\n",
              "      <td>0.946120</td>\n",
              "      <td>0.946120</td>\n",
              "      <td>1.000000</td>\n",
              "    </tr>\n",
              "  </tbody>\n",
              "</table>\n",
              "<p>132 rows × 132 columns</p>\n",
              "</div>\n",
              "      <button class=\"colab-df-convert\" onclick=\"convertToInteractive('df-389bf2d9-d075-4205-89d6-34a78013c890')\"\n",
              "              title=\"Convert this dataframe to an interactive table.\"\n",
              "              style=\"display:none;\">\n",
              "        \n",
              "  <svg xmlns=\"http://www.w3.org/2000/svg\" height=\"24px\"viewBox=\"0 0 24 24\"\n",
              "       width=\"24px\">\n",
              "    <path d=\"M0 0h24v24H0V0z\" fill=\"none\"/>\n",
              "    <path d=\"M18.56 5.44l.94 2.06.94-2.06 2.06-.94-2.06-.94-.94-2.06-.94 2.06-2.06.94zm-11 1L8.5 8.5l.94-2.06 2.06-.94-2.06-.94L8.5 2.5l-.94 2.06-2.06.94zm10 10l.94 2.06.94-2.06 2.06-.94-2.06-.94-.94-2.06-.94 2.06-2.06.94z\"/><path d=\"M17.41 7.96l-1.37-1.37c-.4-.4-.92-.59-1.43-.59-.52 0-1.04.2-1.43.59L10.3 9.45l-7.72 7.72c-.78.78-.78 2.05 0 2.83L4 21.41c.39.39.9.59 1.41.59.51 0 1.02-.2 1.41-.59l7.78-7.78 2.81-2.81c.8-.78.8-2.07 0-2.86zM5.41 20L4 18.59l7.72-7.72 1.47 1.35L5.41 20z\"/>\n",
              "  </svg>\n",
              "      </button>\n",
              "      \n",
              "  <style>\n",
              "    .colab-df-container {\n",
              "      display:flex;\n",
              "      flex-wrap:wrap;\n",
              "      gap: 12px;\n",
              "    }\n",
              "\n",
              "    .colab-df-convert {\n",
              "      background-color: #E8F0FE;\n",
              "      border: none;\n",
              "      border-radius: 50%;\n",
              "      cursor: pointer;\n",
              "      display: none;\n",
              "      fill: #1967D2;\n",
              "      height: 32px;\n",
              "      padding: 0 0 0 0;\n",
              "      width: 32px;\n",
              "    }\n",
              "\n",
              "    .colab-df-convert:hover {\n",
              "      background-color: #E2EBFA;\n",
              "      box-shadow: 0px 1px 2px rgba(60, 64, 67, 0.3), 0px 1px 3px 1px rgba(60, 64, 67, 0.15);\n",
              "      fill: #174EA6;\n",
              "    }\n",
              "\n",
              "    [theme=dark] .colab-df-convert {\n",
              "      background-color: #3B4455;\n",
              "      fill: #D2E3FC;\n",
              "    }\n",
              "\n",
              "    [theme=dark] .colab-df-convert:hover {\n",
              "      background-color: #434B5C;\n",
              "      box-shadow: 0px 1px 3px 1px rgba(0, 0, 0, 0.15);\n",
              "      filter: drop-shadow(0px 1px 2px rgba(0, 0, 0, 0.3));\n",
              "      fill: #FFFFFF;\n",
              "    }\n",
              "  </style>\n",
              "\n",
              "      <script>\n",
              "        const buttonEl =\n",
              "          document.querySelector('#df-389bf2d9-d075-4205-89d6-34a78013c890 button.colab-df-convert');\n",
              "        buttonEl.style.display =\n",
              "          google.colab.kernel.accessAllowed ? 'block' : 'none';\n",
              "\n",
              "        async function convertToInteractive(key) {\n",
              "          const element = document.querySelector('#df-389bf2d9-d075-4205-89d6-34a78013c890');\n",
              "          const dataTable =\n",
              "            await google.colab.kernel.invokeFunction('convertToInteractive',\n",
              "                                                     [key], {});\n",
              "          if (!dataTable) return;\n",
              "\n",
              "          const docLinkHtml = 'Like what you see? Visit the ' +\n",
              "            '<a target=\"_blank\" href=https://colab.research.google.com/notebooks/data_table.ipynb>data table notebook</a>'\n",
              "            + ' to learn more about interactive tables.';\n",
              "          element.innerHTML = '';\n",
              "          dataTable['output_type'] = 'display_data';\n",
              "          await google.colab.output.renderOutput(dataTable, element);\n",
              "          const docLink = document.createElement('div');\n",
              "          docLink.innerHTML = docLinkHtml;\n",
              "          element.appendChild(docLink);\n",
              "        }\n",
              "      </script>\n",
              "    </div>\n",
              "  </div>\n",
              "  "
            ]
          },
          "metadata": {},
          "execution_count": 9
        }
      ]
    },
    {
      "cell_type": "code",
      "source": [
        "# visualize pairplot\n",
        "sample2 = disease[['itching', 'skin_rash','nodal_skin_eruptions', 'continuous_sneezing','prognosis']].copy()\n",
        "sns.pairplot(data=sample2).fig.suptitle('Rubee Keren')"
      ],
      "metadata": {
        "id": "YVH5G64MyPWu",
        "colab": {
          "base_uri": "https://localhost:8080/",
          "height": 744
        },
        "outputId": "337df241-d3a1-4f01-d563-a66491baa9dc"
      },
      "execution_count": null,
      "outputs": [
        {
          "output_type": "execute_result",
          "data": {
            "text/plain": [
              "Text(0.5, 0.98, 'Rubee Keren')"
            ]
          },
          "metadata": {},
          "execution_count": 10
        },
        {
          "output_type": "display_data",
          "data": {
            "text/plain": [
              "<Figure size 720x720 with 20 Axes>"
            ],
            "image/png": "[encoded data removed]"
          },
          "metadata": {
            "needs_background": "light"
          }
        }
      ]
    },
    {
      "cell_type": "code",
      "source": [
        "# column names\n",
        "sample=disease.columns\n",
        "sample=sample[:-1]\n",
        "disease.columns"
      ],
      "metadata": {
        "colab": {
          "base_uri": "https://localhost:8080/"
        },
        "id": "ymxMIpJtzyYK",
        "outputId": "555614a0-f37a-487b-e292-c253648c24e6"
      },
      "execution_count": null,
      "outputs": [
        {
          "output_type": "execute_result",
          "data": {
            "text/plain": [
              "Index(['itching', 'skin_rash', 'nodal_skin_eruptions', 'continuous_sneezing',\n",
              "       'shivering', 'chills', 'joint_pain', 'stomach_pain', 'acidity',\n",
              "       'ulcers_on_tongue',\n",
              "       ...\n",
              "       'blackheads', 'scurring', 'skin_peeling', 'silver_like_dusting',\n",
              "       'small_dents_in_nails', 'inflammatory_nails', 'blister',\n",
              "       'red_sore_around_nose', 'yellow_crust_ooze', 'prognosis'],\n",
              "      dtype='object', length=133)"
            ]
          },
          "metadata": {},
          "execution_count": 11
        }
      ]
    },
    {
      "cell_type": "code",
      "source": [
        "# define y\n",
        "y=disease['prognosis']"
      ],
      "metadata": {
        "id": "kDznvpMcz3Xj"
      },
      "execution_count": null,
      "outputs": []
    },
    {
      "cell_type": "code",
      "source": [
        "# define X\n",
        "X = disease[sample]\n"
      ],
      "metadata": {
        "id": "VYOT05Uzz63S"
      },
      "execution_count": null,
      "outputs": []
    },
    {
      "cell_type": "code",
      "source": [
        "# split data\n",
        "from sklearn.model_selection import train_test_split\n",
        "X_train, X_test, y_train, y_test = train_test_split(X,y, train_size=0.7, random_state=2529)"
      ],
      "metadata": {
        "id": "BMu-d3slzX7j"
      },
      "execution_count": null,
      "outputs": []
    },
    {
      "cell_type": "code",
      "source": [
        "# verify shape\n",
        "X_train.shape, X_test.shape, y_train.shape, y_test.shape"
      ],
      "metadata": {
        "colab": {
          "base_uri": "https://localhost:8080/"
        },
        "id": "6TYpjNnAzgHV",
        "outputId": "0f36d942-89e0-40d4-be55-c0f0d0b3796a"
      },
      "execution_count": null,
      "outputs": [
        {
          "output_type": "execute_result",
          "data": {
            "text/plain": [
              "((3444, 132), (1476, 132), (3444,), (1476,))"
            ]
          },
          "metadata": {},
          "execution_count": 15
        }
      ]
    },
    {
      "cell_type": "code",
      "source": [
        "# select model\n",
        "from sklearn.ensemble import RandomForestClassifier\n",
        "model = RandomForestClassifier(n_estimators =100)"
      ],
      "metadata": {
        "id": "JsLlB3pi0Frp"
      },
      "execution_count": null,
      "outputs": []
    },
    {
      "cell_type": "code",
      "source": [
        "# train model\n",
        "model.fit(X_train,y_train)"
      ],
      "metadata": {
        "colab": {
          "base_uri": "https://localhost:8080/"
        },
        "id": "zNcMLK2N0S4N",
        "outputId": "85699626-96ee-455b-e6cc-d96495270875"
      },
      "execution_count": null,
      "outputs": [
        {
          "output_type": "execute_result",
          "data": {
            "text/plain": [
              "RandomForestClassifier()"
            ]
          },
          "metadata": {},
          "execution_count": 17
        }
      ]
    },
    {
      "cell_type": "code",
      "source": [
        "# predict with model\n",
        "y_pred=model.predict(X_test)"
      ],
      "metadata": {
        "id": "Ucz0oHDj0X36"
      },
      "execution_count": null,
      "outputs": []
    },
    {
      "cell_type": "code",
      "source": [
        "# model evaluation\n",
        "from sklearn.metrics import accuracy_score, confusion_matrix, classification_report"
      ],
      "metadata": {
        "id": "9ueK-hy00e3-"
      },
      "execution_count": null,
      "outputs": []
    },
    {
      "cell_type": "code",
      "source": [
        "# model accuracy\n",
        "accuracy_score(y_test,y_pred)"
      ],
      "metadata": {
        "colab": {
          "base_uri": "https://localhost:8080/"
        },
        "id": "JJV2eHf50o4W",
        "outputId": "848d30ca-2992-42e3-fdb1-3182b2d093fc"
      },
      "execution_count": null,
      "outputs": [
        {
          "output_type": "execute_result",
          "data": {
            "text/plain": [
              "1.0"
            ]
          },
          "metadata": {},
          "execution_count": 20
        }
      ]
    },
    {
      "cell_type": "code",
      "source": [
        "# model confusion matrix\n",
        "confusion_matrix(y_test,y_pred)"
      ],
      "metadata": {
        "colab": {
          "base_uri": "https://localhost:8080/"
        },
        "id": "h100Msuz00TT",
        "outputId": "70354792-4ba0-4e34-e234-716fcbdc727b"
      },
      "execution_count": null,
      "outputs": [
        {
          "output_type": "execute_result",
          "data": {
            "text/plain": [
              "array([[31,  0,  0, ...,  0,  0,  0],\n",
              "       [ 0, 37,  0, ...,  0,  0,  0],\n",
              "       [ 0,  0, 35, ...,  0,  0,  0],\n",
              "       ...,\n",
              "       [ 0,  0,  0, ..., 39,  0,  0],\n",
              "       [ 0,  0,  0, ...,  0, 35,  0],\n",
              "       [ 0,  0,  0, ...,  0,  0, 32]])"
            ]
          },
          "metadata": {},
          "execution_count": 21
        }
      ]
    },
    {
      "cell_type": "code",
      "source": [
        "print(classification_report(y_test,y_pred))\n",
        "# model classification report\n"
      ],
      "metadata": {
        "colab": {
          "base_uri": "https://localhost:8080/"
        },
        "id": "BINeM-mo1Arv",
        "outputId": "0d9b23f8-23e8-403a-cef0-d7138784b883"
      },
      "execution_count": null,
      "outputs": [
        {
          "output_type": "stream",
          "name": "stdout",
          "text": [
            "                                         precision    recall  f1-score   support\n",
            "\n",
            "(vertigo) Paroymsal  Positional Vertigo       1.00      1.00      1.00        31\n",
            "                                   AIDS       1.00      1.00      1.00        37\n",
            "                                   Acne       1.00      1.00      1.00        35\n",
            "                    Alcoholic hepatitis       1.00      1.00      1.00        40\n",
            "                                Allergy       1.00      1.00      1.00        37\n",
            "                              Arthritis       1.00      1.00      1.00        46\n",
            "                       Bronchial Asthma       1.00      1.00      1.00        37\n",
            "                   Cervical spondylosis       1.00      1.00      1.00        31\n",
            "                            Chicken pox       1.00      1.00      1.00        29\n",
            "                    Chronic cholestasis       1.00      1.00      1.00        32\n",
            "                            Common Cold       1.00      1.00      1.00        39\n",
            "                                 Dengue       1.00      1.00      1.00        35\n",
            "                              Diabetes        1.00      1.00      1.00        35\n",
            "           Dimorphic hemmorhoids(piles)       1.00      1.00      1.00        34\n",
            "                          Drug Reaction       1.00      1.00      1.00        38\n",
            "                       Fungal infection       1.00      1.00      1.00        35\n",
            "                                   GERD       1.00      1.00      1.00        31\n",
            "                        Gastroenteritis       1.00      1.00      1.00        36\n",
            "                           Heart attack       1.00      1.00      1.00        41\n",
            "                            Hepatitis B       1.00      1.00      1.00        46\n",
            "                            Hepatitis C       1.00      1.00      1.00        32\n",
            "                            Hepatitis D       1.00      1.00      1.00        39\n",
            "                            Hepatitis E       1.00      1.00      1.00        29\n",
            "                          Hypertension        1.00      1.00      1.00        33\n",
            "                        Hyperthyroidism       1.00      1.00      1.00        36\n",
            "                           Hypoglycemia       1.00      1.00      1.00        33\n",
            "                         Hypothyroidism       1.00      1.00      1.00        30\n",
            "                               Impetigo       1.00      1.00      1.00        48\n",
            "                               Jaundice       1.00      1.00      1.00        36\n",
            "                                Malaria       1.00      1.00      1.00        41\n",
            "                               Migraine       1.00      1.00      1.00        38\n",
            "                        Osteoarthristis       1.00      1.00      1.00        38\n",
            "           Paralysis (brain hemorrhage)       1.00      1.00      1.00        42\n",
            "                    Peptic ulcer diseae       1.00      1.00      1.00        29\n",
            "                              Pneumonia       1.00      1.00      1.00        33\n",
            "                              Psoriasis       1.00      1.00      1.00        33\n",
            "                           Tuberculosis       1.00      1.00      1.00        42\n",
            "                                Typhoid       1.00      1.00      1.00        33\n",
            "                Urinary tract infection       1.00      1.00      1.00        39\n",
            "                         Varicose veins       1.00      1.00      1.00        35\n",
            "                            hepatitis A       1.00      1.00      1.00        32\n",
            "\n",
            "                               accuracy                           1.00      1476\n",
            "                              macro avg       1.00      1.00      1.00      1476\n",
            "                           weighted avg       1.00      1.00      1.00      1476\n",
            "\n"
          ]
        }
      ]
    },
    {
      "cell_type": "code",
      "source": [
        "# future prediction\n",
        "model.predict([[1,1,1,0,0,0,0,0,0,0,0,0,0,0,0,0,0,0,0,0,0,0,0,0,0,0,0,0,0,0,0,0,0,0,0,0,0,0,0,0,0,0,0,0,0,0,0,0,0,0,0,0,0,0,0,0,0,0,0,0,0,0,0,0,0,0,0,0,0,0,0,0,0,0,0,0,0,0,0,0,0,0,0,0,0,0,0,0,0,0,0,0,0,0,0,0,0,0,0,0,0,0,1,0,0,0,0,0,0,0,0,0,0,0,0,0,0,0,0,0,0,0,0,0,0,0,0,0,0,0,0,0]])"
      ],
      "metadata": {
        "colab": {
          "base_uri": "https://localhost:8080/"
        },
        "id": "_kC5WrRO1Gfj",
        "outputId": "3e162738-b457-45fe-dc6a-535562f60f36"
      },
      "execution_count": null,
      "outputs": [
        {
          "output_type": "stream",
          "name": "stderr",
          "text": [
            "/usr/local/lib/python3.8/dist-packages/sklearn/base.py:450: UserWarning: X does not have valid feature names, but RandomForestClassifier was fitted with feature names\n",
            "  warnings.warn(\n"
          ]
        },
        {
          "output_type": "execute_result",
          "data": {
            "text/plain": [
              "array(['Fungal infection'], dtype=object)"
            ]
          },
          "metadata": {},
          "execution_count": 23
        }
      ]
    },
    {
      "cell_type": "code",
      "source": [
        "# define X_new\n",
        "sample=sample[:5]\n",
        "X_new=disease[sample]"
      ],
      "metadata": {
        "id": "CxLn9E-n1Zht"
      },
      "execution_count": null,
      "outputs": []
    },
    {
      "cell_type": "code",
      "source": [
        "# split data\n",
        "from sklearn.model_selection import train_test_split\n",
        "X_train, X_test, y_train, y_test = train_test_split(X_new,y, train_size=0.7, random_state=2529)"
      ],
      "metadata": {
        "id": "ph3XVzdw2MS2"
      },
      "execution_count": null,
      "outputs": []
    },
    {
      "cell_type": "code",
      "source": [
        "# verify shape\n",
        "X_train.shape, X_test.shape, y_train.shape, y_test.shape"
      ],
      "metadata": {
        "colab": {
          "base_uri": "https://localhost:8080/"
        },
        "id": "Vxxm9zD2ermR",
        "outputId": "852d1bad-7e47-4ed2-d0dd-2b263299667e"
      },
      "execution_count": null,
      "outputs": [
        {
          "output_type": "execute_result",
          "data": {
            "text/plain": [
              "((3444, 5), (1476, 5), (3444,), (1476,))"
            ]
          },
          "metadata": {},
          "execution_count": 28
        }
      ]
    },
    {
      "cell_type": "code",
      "source": [
        "# select model\n",
        "from sklearn.ensemble import RandomForestClassifier\n",
        "model = RandomForestClassifier(n_estimators =100)"
      ],
      "metadata": {
        "id": "43Hvr2H5e0PZ"
      },
      "execution_count": null,
      "outputs": []
    },
    {
      "cell_type": "code",
      "source": [
        "# train model\n",
        "model.fit(X_train,y_train)"
      ],
      "metadata": {
        "colab": {
          "base_uri": "https://localhost:8080/"
        },
        "id": "bPR4RzC7e2sV",
        "outputId": "4b271572-6450-498b-95c6-5f409028a6b8"
      },
      "execution_count": null,
      "outputs": [
        {
          "output_type": "execute_result",
          "data": {
            "text/plain": [
              "RandomForestClassifier()"
            ]
          },
          "metadata": {},
          "execution_count": 30
        }
      ]
    },
    {
      "cell_type": "code",
      "source": [
        "# predict with model\n",
        "y_pred=model.predict(X_test)"
      ],
      "metadata": {
        "id": "pbRPBBqye4i8"
      },
      "execution_count": null,
      "outputs": []
    },
    {
      "cell_type": "code",
      "source": [
        "# model evaluation\n",
        "from sklearn.metrics import accuracy_score, confusion_matrix, classification_report"
      ],
      "metadata": {
        "id": "WOQ4pB-ve7Lp"
      },
      "execution_count": null,
      "outputs": []
    },
    {
      "cell_type": "code",
      "source": [
        "# model accuracy\n",
        "accuracy_score(y_test,y_pred)"
      ],
      "metadata": {
        "colab": {
          "base_uri": "https://localhost:8080/"
        },
        "id": "5Txqowa1e9Ty",
        "outputId": "3e1fbb30-3c73-4585-cb68-c91942231715"
      },
      "execution_count": null,
      "outputs": [
        {
          "output_type": "execute_result",
          "data": {
            "text/plain": [
              "0.14634146341463414"
            ]
          },
          "metadata": {},
          "execution_count": 33
        }
      ]
    },
    {
      "cell_type": "code",
      "source": [
        "model.predict([[1,1,1,0,0]])"
      ],
      "metadata": {
        "colab": {
          "base_uri": "https://localhost:8080/"
        },
        "id": "WKpDGTwse_K5",
        "outputId": "5f245e92-1189-47b5-96e6-f68a703d12ab"
      },
      "execution_count": null,
      "outputs": [
        {
          "output_type": "stream",
          "name": "stderr",
          "text": [
            "/usr/local/lib/python3.8/dist-packages/sklearn/base.py:450: UserWarning: X does not have valid feature names, but RandomForestClassifier was fitted with feature names\n",
            "  warnings.warn(\n"
          ]
        },
        {
          "output_type": "execute_result",
          "data": {
            "text/plain": [
              "array(['Fungal infection'], dtype=object)"
            ]
          },
          "metadata": {},
          "execution_count": 34
        }
      ]
    },
    {
      "cell_type": "code",
      "source": [
        "model.predict([[1,1,0,0,0]])"
      ],
      "metadata": {
        "id": "ERxCL_UOfCBE",
        "outputId": "13d6c5fd-af76-4719-ba02-360b5253f0ae",
        "colab": {
          "base_uri": "https://localhost:8080/"
        }
      },
      "execution_count": null,
      "outputs": [
        {
          "output_type": "stream",
          "name": "stderr",
          "text": [
            "/usr/local/lib/python3.8/dist-packages/sklearn/base.py:450: UserWarning: X does not have valid feature names, but RandomForestClassifier was fitted with feature names\n",
            "  warnings.warn(\n"
          ]
        },
        {
          "output_type": "execute_result",
          "data": {
            "text/plain": [
              "array(['Chicken pox'], dtype=object)"
            ]
          },
          "metadata": {},
          "execution_count": 35
        }
      ]
    },
    {
      "cell_type": "code",
      "source": [],
      "metadata": {
        "id": "pTpG51NpfEqB"
      },
      "execution_count": null,
      "outputs": []
    }
  ]
}